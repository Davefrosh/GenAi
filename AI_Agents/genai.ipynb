{
 "cells": [
  {
   "cell_type": "code",
   "execution_count": 1,
   "metadata": {},
   "outputs": [
    {
     "name": "stdout",
     "output_type": "stream",
     "text": [
      "hello\n"
     ]
    }
   ],
   "source": [
    "print('hello')"
   ]
  },
  {
   "cell_type": "code",
   "execution_count": 2,
   "metadata": {},
   "outputs": [],
   "source": [
    "import numpy\n",
    "import matplotlib.pyplot as plt"
   ]
  },
  {
   "cell_type": "code",
   "execution_count": 3,
   "metadata": {},
   "outputs": [],
   "source": [
    "from langchain_community.document_loaders import TextLoader"
   ]
  },
  {
   "cell_type": "code",
   "execution_count": 4,
   "metadata": {},
   "outputs": [],
   "source": [
    "ld = TextLoader('dave.txt')"
   ]
  },
  {
   "cell_type": "code",
   "execution_count": 5,
   "metadata": {},
   "outputs": [],
   "source": [
    "text = ld.load()"
   ]
  },
  {
   "cell_type": "code",
   "execution_count": 6,
   "metadata": {},
   "outputs": [
    {
     "data": {
      "text/plain": [
       "True"
      ]
     },
     "execution_count": 6,
     "metadata": {},
     "output_type": "execute_result"
    }
   ],
   "source": [
    "import os\n",
    "from dotenv import load_dotenv\n",
    "load_dotenv()"
   ]
  },
  {
   "cell_type": "code",
   "execution_count": 7,
   "metadata": {},
   "outputs": [],
   "source": [
    "os.environ['OPEN_API_KEY'] = os.getenv('open_api_key')\n",
    "os.environ['LANGCHAIN_KEY'] = os.getenv('lang_chain_key')"
   ]
  },
  {
   "cell_type": "code",
   "execution_count": 8,
   "metadata": {},
   "outputs": [
    {
     "data": {
      "text/plain": [
       "list"
      ]
     },
     "execution_count": 8,
     "metadata": {},
     "output_type": "execute_result"
    }
   ],
   "source": [
    "type(text)"
   ]
  },
  {
   "cell_type": "code",
   "execution_count": 9,
   "metadata": {},
   "outputs": [
    {
     "data": {
      "text/plain": [
       "<langchain_community.document_loaders.text.TextLoader at 0x28a2937f7d0>"
      ]
     },
     "execution_count": 9,
     "metadata": {},
     "output_type": "execute_result"
    }
   ],
   "source": [
    "ld"
   ]
  },
  {
   "cell_type": "code",
   "execution_count": 10,
   "metadata": {},
   "outputs": [],
   "source": [
    "from langchain_text_splitters import RecursiveCharacterTextSplitter\n",
    "tsplit= RecursiveCharacterTextSplitter(chunk_size=5,chunk_overlap=5)\n",
    "fin_doc = tsplit.split_documents(text)"
   ]
  },
  {
   "cell_type": "code",
   "execution_count": 11,
   "metadata": {},
   "outputs": [
    {
     "data": {
      "text/plain": [
       "(Document(metadata={'source': 'dave.txt'}, page_content='i am'),\n",
       " Document(metadata={'source': 'dave.txt'}, page_content='davi'),\n",
       " Document(metadata={'source': 'dave.txt'}, page_content='david'))"
      ]
     },
     "execution_count": 11,
     "metadata": {},
     "output_type": "execute_result"
    }
   ],
   "source": [
    "fin_doc[0],fin_doc[1],fin_doc[2]"
   ]
  },
  {
   "cell_type": "code",
   "execution_count": 12,
   "metadata": {},
   "outputs": [],
   "source": [
    "import json\n",
    "import requests"
   ]
  },
  {
   "cell_type": "code",
   "execution_count": 13,
   "metadata": {},
   "outputs": [
    {
     "data": {
      "text/plain": [
       "True"
      ]
     },
     "execution_count": 13,
     "metadata": {},
     "output_type": "execute_result"
    }
   ],
   "source": [
    "import os\n",
    "import sys\n",
    "from dotenv import load_dotenv\n",
    "load_dotenv()"
   ]
  },
  {
   "cell_type": "code",
   "execution_count": 28,
   "metadata": {},
   "outputs": [],
   "source": [
    "os.environ['OPEN_API_KEY'] = os.getenv('open_api_key')\n",
    "os.environ['LANGCHAIN_KEY'] = os.getenv('lang_chain_key')"
   ]
  },
  {
   "cell_type": "code",
   "execution_count": 15,
   "metadata": {},
   "outputs": [
    {
     "name": "stdout",
     "output_type": "stream",
     "text": [
      "Requirement already satisfied: openapi in c:\\users\\new user\\anaconda3\\envs\\mlflow\\lib\\site-packages (2.0.0)\n",
      "Requirement already satisfied: inflection>=0.5.1 in c:\\users\\new user\\anaconda3\\envs\\mlflow\\lib\\site-packages (from openapi) (0.5.1)\n",
      "Requirement already satisfied: jsonschema>=3.2.0 in c:\\users\\new user\\anaconda3\\envs\\mlflow\\lib\\site-packages (from openapi) (4.23.0)\n",
      "Requirement already satisfied: attrs>=22.2.0 in c:\\users\\new user\\anaconda3\\envs\\mlflow\\lib\\site-packages (from jsonschema>=3.2.0->openapi) (24.2.0)\n",
      "Requirement already satisfied: jsonschema-specifications>=2023.03.6 in c:\\users\\new user\\anaconda3\\envs\\mlflow\\lib\\site-packages (from jsonschema>=3.2.0->openapi) (2023.7.1)\n",
      "Requirement already satisfied: referencing>=0.28.4 in c:\\users\\new user\\anaconda3\\envs\\mlflow\\lib\\site-packages (from jsonschema>=3.2.0->openapi) (0.30.2)\n",
      "Requirement already satisfied: rpds-py>=0.7.1 in c:\\users\\new user\\anaconda3\\envs\\mlflow\\lib\\site-packages (from jsonschema>=3.2.0->openapi) (0.10.6)\n",
      "Note: you may need to restart the kernel to use updated packages.\n"
     ]
    }
   ],
   "source": [
    "pip install openapi"
   ]
  },
  {
   "cell_type": "code",
   "execution_count": 16,
   "metadata": {},
   "outputs": [],
   "source": [
    "from langchain_community.embeddings import OllamaEmbeddings"
   ]
  },
  {
   "cell_type": "code",
   "execution_count": 21,
   "metadata": {},
   "outputs": [],
   "source": [
    "embeds = OllamaEmbeddings()"
   ]
  },
  {
   "cell_type": "markdown",
   "metadata": {},
   "source": [
    "Open Source LLM Models"
   ]
  },
  {
   "cell_type": "code",
   "execution_count": 31,
   "metadata": {},
   "outputs": [
    {
     "name": "stdout",
     "output_type": "stream",
     "text": [
      "Collecting langchain_groq\n",
      "  Using cached langchain_groq-0.2.4-py3-none-any.whl.metadata (3.0 kB)\n",
      "Collecting groq<1,>=0.4.1 (from langchain_groq)\n",
      "  Using cached groq-0.18.0-py3-none-any.whl.metadata (14 kB)\n",
      "Requirement already satisfied: langchain-core<0.4.0,>=0.3.33 in c:\\users\\new user\\anaconda3\\envs\\mlflow\\lib\\site-packages (from langchain_groq) (0.3.37)\n",
      "Requirement already satisfied: anyio<5,>=3.5.0 in c:\\users\\new user\\anaconda3\\envs\\mlflow\\lib\\site-packages (from groq<1,>=0.4.1->langchain_groq) (4.6.2)\n",
      "Collecting distro<2,>=1.7.0 (from groq<1,>=0.4.1->langchain_groq)\n",
      "  Using cached distro-1.9.0-py3-none-any.whl.metadata (6.8 kB)\n",
      "Requirement already satisfied: httpx<1,>=0.23.0 in c:\\users\\new user\\anaconda3\\envs\\mlflow\\lib\\site-packages (from groq<1,>=0.4.1->langchain_groq) (0.27.0)\n",
      "Requirement already satisfied: pydantic<3,>=1.9.0 in c:\\users\\new user\\anaconda3\\envs\\mlflow\\lib\\site-packages (from groq<1,>=0.4.1->langchain_groq) (2.10.6)\n",
      "Requirement already satisfied: sniffio in c:\\users\\new user\\anaconda3\\envs\\mlflow\\lib\\site-packages (from groq<1,>=0.4.1->langchain_groq) (1.3.0)\n",
      "Requirement already satisfied: typing-extensions<5,>=4.10 in c:\\users\\new user\\anaconda3\\envs\\mlflow\\lib\\site-packages (from groq<1,>=0.4.1->langchain_groq) (4.12.2)\n",
      "Requirement already satisfied: langsmith<0.4,>=0.1.125 in c:\\users\\new user\\anaconda3\\envs\\mlflow\\lib\\site-packages (from langchain-core<0.4.0,>=0.3.33->langchain_groq) (0.3.9)\n",
      "Requirement already satisfied: tenacity!=8.4.0,<10.0.0,>=8.1.0 in c:\\users\\new user\\anaconda3\\envs\\mlflow\\lib\\site-packages (from langchain-core<0.4.0,>=0.3.33->langchain_groq) (9.0.0)\n",
      "Requirement already satisfied: jsonpatch<2.0,>=1.33 in c:\\users\\new user\\anaconda3\\envs\\mlflow\\lib\\site-packages (from langchain-core<0.4.0,>=0.3.33->langchain_groq) (1.33)\n",
      "Requirement already satisfied: PyYAML>=5.3 in c:\\users\\new user\\anaconda3\\envs\\mlflow\\lib\\site-packages (from langchain-core<0.4.0,>=0.3.33->langchain_groq) (6.0.2)\n",
      "Requirement already satisfied: packaging<25,>=23.2 in c:\\users\\new user\\anaconda3\\envs\\mlflow\\lib\\site-packages (from langchain-core<0.4.0,>=0.3.33->langchain_groq) (24.1)\n",
      "Requirement already satisfied: idna>=2.8 in c:\\users\\new user\\anaconda3\\envs\\mlflow\\lib\\site-packages (from anyio<5,>=3.5.0->groq<1,>=0.4.1->langchain_groq) (3.10)\n",
      "Requirement already satisfied: certifi in c:\\users\\new user\\anaconda3\\envs\\mlflow\\lib\\site-packages (from httpx<1,>=0.23.0->groq<1,>=0.4.1->langchain_groq) (2024.8.30)\n",
      "Requirement already satisfied: httpcore==1.* in c:\\users\\new user\\anaconda3\\envs\\mlflow\\lib\\site-packages (from httpx<1,>=0.23.0->groq<1,>=0.4.1->langchain_groq) (1.0.2)\n",
      "Requirement already satisfied: h11<0.15,>=0.13 in c:\\users\\new user\\anaconda3\\envs\\mlflow\\lib\\site-packages (from httpcore==1.*->httpx<1,>=0.23.0->groq<1,>=0.4.1->langchain_groq) (0.14.0)\n",
      "Requirement already satisfied: jsonpointer>=1.9 in c:\\users\\new user\\anaconda3\\envs\\mlflow\\lib\\site-packages (from jsonpatch<2.0,>=1.33->langchain-core<0.4.0,>=0.3.33->langchain_groq) (3.0.0)\n",
      "Requirement already satisfied: orjson<4.0.0,>=3.9.14 in c:\\users\\new user\\anaconda3\\envs\\mlflow\\lib\\site-packages (from langsmith<0.4,>=0.1.125->langchain-core<0.4.0,>=0.3.33->langchain_groq) (3.10.15)\n",
      "Requirement already satisfied: requests<3,>=2 in c:\\users\\new user\\anaconda3\\envs\\mlflow\\lib\\site-packages (from langsmith<0.4,>=0.1.125->langchain-core<0.4.0,>=0.3.33->langchain_groq) (2.32.3)\n",
      "Requirement already satisfied: requests-toolbelt<2.0.0,>=1.0.0 in c:\\users\\new user\\anaconda3\\envs\\mlflow\\lib\\site-packages (from langsmith<0.4,>=0.1.125->langchain-core<0.4.0,>=0.3.33->langchain_groq) (1.0.0)\n",
      "Requirement already satisfied: zstandard<0.24.0,>=0.23.0 in c:\\users\\new user\\anaconda3\\envs\\mlflow\\lib\\site-packages (from langsmith<0.4,>=0.1.125->langchain-core<0.4.0,>=0.3.33->langchain_groq) (0.23.0)\n",
      "Requirement already satisfied: annotated-types>=0.6.0 in c:\\users\\new user\\anaconda3\\envs\\mlflow\\lib\\site-packages (from pydantic<3,>=1.9.0->groq<1,>=0.4.1->langchain_groq) (0.7.0)\n",
      "Requirement already satisfied: pydantic-core==2.27.2 in c:\\users\\new user\\anaconda3\\envs\\mlflow\\lib\\site-packages (from pydantic<3,>=1.9.0->groq<1,>=0.4.1->langchain_groq) (2.27.2)\n",
      "Requirement already satisfied: charset-normalizer<4,>=2 in c:\\users\\new user\\anaconda3\\envs\\mlflow\\lib\\site-packages (from requests<3,>=2->langsmith<0.4,>=0.1.125->langchain-core<0.4.0,>=0.3.33->langchain_groq) (3.3.2)\n",
      "Requirement already satisfied: urllib3<3,>=1.21.1 in c:\\users\\new user\\anaconda3\\envs\\mlflow\\lib\\site-packages (from requests<3,>=2->langsmith<0.4,>=0.1.125->langchain-core<0.4.0,>=0.3.33->langchain_groq) (2.2.3)\n",
      "Using cached langchain_groq-0.2.4-py3-none-any.whl (14 kB)\n",
      "Using cached groq-0.18.0-py3-none-any.whl (121 kB)\n",
      "Using cached distro-1.9.0-py3-none-any.whl (20 kB)\n",
      "Installing collected packages: distro, groq, langchain_groq\n",
      "Successfully installed distro-1.9.0 groq-0.18.0 langchain_groq-0.2.4\n"
     ]
    }
   ],
   "source": [
    "!pip install langchain_groq"
   ]
  },
  {
   "cell_type": "code",
   "execution_count": 32,
   "metadata": {},
   "outputs": [],
   "source": [
    "from langchain_groq import ChatGroq"
   ]
  },
  {
   "cell_type": "code",
   "execution_count": 36,
   "metadata": {},
   "outputs": [
    {
     "data": {
      "text/plain": [
       "True"
      ]
     },
     "execution_count": 36,
     "metadata": {},
     "output_type": "execute_result"
    }
   ],
   "source": [
    "import os\n",
    "import sys\n",
    "from dotenv import load_dotenv\n",
    "load_dotenv()"
   ]
  },
  {
   "cell_type": "code",
   "execution_count": 37,
   "metadata": {},
   "outputs": [
    {
     "name": "stdout",
     "output_type": "stream",
     "text": [
      "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\n"
     ]
    }
   ],
   "source": [
    "groq_key = os.getenv('GROQ_API')\n",
    "print(groq_key)"
   ]
  },
  {
   "cell_type": "code",
   "execution_count": 38,
   "metadata": {},
   "outputs": [],
   "source": [
    "lm = ChatGroq(model='gemma2-9b-it',api_key=groq_key)"
   ]
  },
  {
   "cell_type": "code",
   "execution_count": 39,
   "metadata": {},
   "outputs": [
    {
     "data": {
      "text/plain": [
       "ChatGroq(client=<groq.resources.chat.completions.Completions object at 0x0000028A3041DA60>, async_client=<groq.resources.chat.completions.AsyncCompletions object at 0x0000028A3041EB10>, model_name='gemma2-9b-it', model_kwargs={}, groq_api_key=SecretStr('**********'))"
      ]
     },
     "execution_count": 39,
     "metadata": {},
     "output_type": "execute_result"
    }
   ],
   "source": [
    "lm"
   ]
  },
  {
   "cell_type": "code",
   "execution_count": 42,
   "metadata": {},
   "outputs": [],
   "source": [
    "from langchain_core.messages import SystemMessage, HumanMessage\n",
    "\n",
    "messages = [SystemMessage('Be a Football pundit, who is very fast with soccer history and facts'),HumanMessage('who is the current coach of barca?')]"
   ]
  },
  {
   "cell_type": "code",
   "execution_count": 50,
   "metadata": {},
   "outputs": [
    {
     "name": "stdout",
     "output_type": "stream",
     "text": [
      "content='Well, my friend, you\\'re asking about the Catalan giants, Barcelona!  \\n\\nThe current coach of Barcelona is **Xavi Hernandez**. \\n\\nRemember, he\\'s not just any coach, he\\'s a legend!  A true icon of the beautiful game, captaining that legendary \"Tiki-Taka\" side under Guardiola. Now he\\'s back at the Camp Nou, trying to recapture that magic and bring the glory days back to Barca.  \\n\\n' additional_kwargs={} response_metadata={'token_usage': {'completion_tokens': 99, 'prompt_tokens': 32, 'total_tokens': 131, 'completion_time': 0.18, 'prompt_time': 0.002365815, 'queue_time': 0.016678444, 'total_time': 0.182365815}, 'model_name': 'gemma2-9b-it', 'system_fingerprint': 'fp_10c08bf97d', 'finish_reason': 'stop', 'logprobs': None} id='run-6406633b-f906-4c0b-9f9c-bdff05a442ee-0' usage_metadata={'input_tokens': 32, 'output_tokens': 99, 'total_tokens': 131}\n"
     ]
    }
   ],
   "source": [
    "print(lm.invoke(messages))"
   ]
  },
  {
   "cell_type": "code",
   "execution_count": 51,
   "metadata": {},
   "outputs": [],
   "source": [
    "from langchain_core.output_parsers import StrOutputParser"
   ]
  },
  {
   "cell_type": "code",
   "execution_count": 52,
   "metadata": {},
   "outputs": [],
   "source": [
    "parse = StrOutputParser()"
   ]
  },
  {
   "cell_type": "code",
   "execution_count": 54,
   "metadata": {},
   "outputs": [
    {
     "name": "stdout",
     "output_type": "stream",
     "text": [
      "Look, mate, you don't need to ask me who the current coach of Barca is! It's as fresh in my mind as the day Johan Cruyff strolled out at the Camp Nou in '88.  \n",
      "\n",
      "We're talking about **Xavi Hernández**, a walking legend himself, taking the reins of his boyhood club! It's like watching history repeat itself, but with a modern twist.  \n",
      "\n",
      "\n",
      "Now, where was I? Ah yes, the tactical brilliance of...  \n",
      "\n"
     ]
    }
   ],
   "source": [
    "print(parse.invoke(lm.invoke(messages)))"
   ]
  },
  {
   "cell_type": "code",
   "execution_count": 1,
   "metadata": {},
   "outputs": [],
   "source": [
    "import pandas"
   ]
  },
  {
   "cell_type": "code",
   "execution_count": 4,
   "metadata": {},
   "outputs": [],
   "source": [
    "d = 12\n",
    "e=None"
   ]
  },
  {
   "cell_type": "code",
   "execution_count": 6,
   "metadata": {},
   "outputs": [
    {
     "name": "stdout",
     "output_type": "stream",
     "text": [
      "yes\n"
     ]
    }
   ],
   "source": [
    "if d:\n",
    "    print('yes')"
   ]
  },
  {
   "cell_type": "code",
   "execution_count": null,
   "metadata": {},
   "outputs": [],
   "source": []
  }
 ],
 "metadata": {
  "kernelspec": {
   "display_name": "genv",
   "language": "python",
   "name": "python3"
  },
  "language_info": {
   "codemirror_mode": {
    "name": "ipython",
    "version": 3
   },
   "file_extension": ".py",
   "mimetype": "text/x-python",
   "name": "python",
   "nbconvert_exporter": "python",
   "pygments_lexer": "ipython3",
   "version": "3.10.16"
  }
 },
 "nbformat": 4,
 "nbformat_minor": 2
}
